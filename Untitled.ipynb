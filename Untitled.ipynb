{
 "cells": [
  {
   "cell_type": "code",
   "execution_count": 7,
   "id": "9de67486",
   "metadata": {},
   "outputs": [
    {
     "name": "stdout",
     "output_type": "stream",
     "text": [
      "added 60 to the account \n",
      "the balance is 560\n",
      "None\n"
     ]
    }
   ],
   "source": [
    "class Account():\n",
    "    def __init__(self,owner,balance):\n",
    "        self.owner = owner\n",
    "        self.balance = balance\n",
    "    def dep_amount(self,dep):\n",
    "        self.balance = self.balance+dep\n",
    "        print(f\"added {dep} to the account \")\n",
    "        print(f\"the balance is {self.balance}\")\n",
    "    def withdraw(self,withdraw_amt):\n",
    "        if self.balance >= withdraw_amt:\n",
    "            balance = self.balance - withdraw_amt\n",
    "            print(f\"the balance is {balance}\")\n",
    "        else:\n",
    "            print(\"not enough fund!\")\n",
    "a=Account(\"suji\",500)\n",
    "print(a.dep_amount(60))"
   ]
  },
  {
   "cell_type": "code",
   "execution_count": null,
   "id": "71f34b1b",
   "metadata": {},
   "outputs": [],
   "source": []
  },
  {
   "cell_type": "code",
   "execution_count": null,
   "id": "64ba1c82",
   "metadata": {},
   "outputs": [],
   "source": []
  }
 ],
 "metadata": {
  "kernelspec": {
   "display_name": "Python 3 (ipykernel)",
   "language": "python",
   "name": "python3"
  },
  "language_info": {
   "codemirror_mode": {
    "name": "ipython",
    "version": 3
   },
   "file_extension": ".py",
   "mimetype": "text/x-python",
   "name": "python",
   "nbconvert_exporter": "python",
   "pygments_lexer": "ipython3",
   "version": "3.9.13"
  }
 },
 "nbformat": 4,
 "nbformat_minor": 5
}
